{
  "cells": [
    {
      "cell_type": "markdown",
      "metadata": {
        "id": "view-in-github",
        "colab_type": "text"
      },
      "source": [
        "<a href=\"https://colab.research.google.com/github/EricaAnnor/breast_cancer_prediction/blob/main/Breast_Cancer_predicition.ipynb\" target=\"_parent\"><img src=\"https://colab.research.google.com/assets/colab-badge.svg\" alt=\"Open In Colab\"/></a>"
      ]
    },
    {
      "cell_type": "markdown",
      "metadata": {
        "id": "POzOz_Hsotn7"
      },
      "source": [
        "## Import modules\n"
      ]
    },
    {
      "cell_type": "code",
      "execution_count": 3,
      "metadata": {
        "id": "uW4vP1pOobPf"
      },
      "outputs": [],
      "source": [
        "import pandas as pd\n",
        "import numpy as np\n",
        "from sklearn.preprocessing import StandardScaler\n",
        "from sklearn.model_selection import train_test_split\n",
        "from sklearn.ensemble import RandomForestClassifier\n",
        "from xgboost import XGBClassifier\n",
        "from sklearn.linear_model import LogisticRegression\n",
        "from sklearn.neighbors import KNeighborsClassifier\n",
        "from sklearn.datasets import make_classification\n",
        "from sklearn.metrics import classification_report, accuracy_score\n"
      ]
    },
    {
      "cell_type": "markdown",
      "metadata": {
        "id": "s8YKD-Voq1Vp"
      },
      "source": [
        "## Read datasets"
      ]
    },
    {
      "cell_type": "code",
      "execution_count": null,
      "metadata": {
        "id": "bw_VhnnQrCf1"
      },
      "outputs": [],
      "source": [
        "from google.colab import drive\n",
        "drive.mount('/content/drive')"
      ]
    },
    {
      "cell_type": "code",
      "execution_count": null,
      "metadata": {
        "id": "SunZ-orTrqWm"
      },
      "outputs": [],
      "source": [
        "new_data = pd.read_csv('/content/drive/MyDrive/Breast_Cancer prediction/breasts.csv')\n"
      ]
    },
    {
      "cell_type": "code",
      "execution_count": null,
      "metadata": {
        "id": "f9UKIkYUsCU_"
      },
      "outputs": [],
      "source": [
        "data = new_data.copy()\n",
        "data.head()"
      ]
    },
    {
      "cell_type": "code",
      "execution_count": null,
      "metadata": {
        "id": "k7Z5szlJAEmm"
      },
      "outputs": [],
      "source": [
        "data['Diagnosis'] = data['Diagnosis'].map({'M':1,'B':0})\n"
      ]
    },
    {
      "cell_type": "markdown",
      "metadata": {
        "id": "lJklJsfYsXmW"
      },
      "source": [
        "## Spliting our data into X and Y values\n"
      ]
    },
    {
      "cell_type": "code",
      "execution_count": null,
      "metadata": {
        "id": "WUHts0ARsWqB"
      },
      "outputs": [],
      "source": [
        "Y = data['Diagnosis']\n",
        "X = data.drop(['ID','Diagnosis'],axis=1)"
      ]
    },
    {
      "cell_type": "code",
      "execution_count": null,
      "metadata": {
        "id": "WoBAtHQzs0Zv"
      },
      "outputs": [],
      "source": [
        "Y.head()"
      ]
    },
    {
      "cell_type": "code",
      "execution_count": null,
      "metadata": {
        "id": "sp_toRQ6s3dh"
      },
      "outputs": [],
      "source": [
        "X.head()"
      ]
    },
    {
      "cell_type": "markdown",
      "metadata": {
        "id": "DNjLEtMcs9LG"
      },
      "source": [
        "## Data Preprocessing"
      ]
    },
    {
      "cell_type": "code",
      "execution_count": null,
      "metadata": {
        "id": "BMLWTdJjs8Ug"
      },
      "outputs": [],
      "source": [
        "data_ = new_data.copy()"
      ]
    },
    {
      "cell_type": "code",
      "execution_count": null,
      "metadata": {
        "id": "ENFpRKEpwgY1"
      },
      "outputs": [],
      "source": [
        "X_ = data_.drop(['ID','Diagnosis'],axis=1)"
      ]
    },
    {
      "cell_type": "markdown",
      "metadata": {
        "id": "310_QRFd4qMJ"
      },
      "source": [
        "## Standardization\n"
      ]
    },
    {
      "cell_type": "code",
      "execution_count": null,
      "metadata": {
        "id": "lFLm3uMcbWR_"
      },
      "outputs": [],
      "source": [
        "scaler = StandardScaler()\n",
        "z_scores = scaler.fit_transform(X_)\n"
      ]
    },
    {
      "cell_type": "code",
      "execution_count": null,
      "metadata": {
        "id": "X0Mz4_dzb3j5"
      },
      "outputs": [],
      "source": [
        "z_scores"
      ]
    },
    {
      "cell_type": "code",
      "execution_count": null,
      "metadata": {
        "id": "yQbqQqctTAow"
      },
      "outputs": [],
      "source": [
        "print(z_scores)"
      ]
    },
    {
      "cell_type": "markdown",
      "metadata": {
        "id": "sjLFRfPI48Ux"
      },
      "source": [
        "## Feature selection using the filtering method\n"
      ]
    },
    {
      "cell_type": "code",
      "execution_count": null,
      "metadata": {
        "id": "h8DMcVpk95xa"
      },
      "outputs": [],
      "source": [
        "Y\n"
      ]
    },
    {
      "cell_type": "code",
      "execution_count": null,
      "metadata": {
        "id": "OAMh4LPv-tYD"
      },
      "outputs": [],
      "source": []
    },
    {
      "cell_type": "code",
      "execution_count": null,
      "metadata": {
        "id": "dAFV-rQl5Gdw"
      },
      "outputs": [],
      "source": [
        "# Convert the scaled array back to a DataFrame\n",
        "X_scaled_df = pd.DataFrame(z_scores, columns=X_.columns)\n",
        "\n",
        "X_scaled_df['target'] = Y"
      ]
    },
    {
      "cell_type": "code",
      "execution_count": null,
      "metadata": {
        "id": "5RespWpZDOUg"
      },
      "outputs": [],
      "source": [
        "X_scaled_df.head()"
      ]
    },
    {
      "cell_type": "code",
      "execution_count": null,
      "metadata": {
        "id": "MmbI10li8He1"
      },
      "outputs": [],
      "source": [
        "correlation_matrix =X_scaled_df.corr(method='pearson')  # Calculate correlation matrix\n",
        "correlation_matrix"
      ]
    },
    {
      "cell_type": "code",
      "execution_count": null,
      "metadata": {
        "id": "iWfdU1Xm8O7I"
      },
      "outputs": [],
      "source": [
        "target_correlation = correlation_matrix['target']"
      ]
    },
    {
      "cell_type": "code",
      "execution_count": null,
      "metadata": {
        "id": "TvzgxP0j8XGv"
      },
      "outputs": [],
      "source": [
        "threshold = 0.5  # Set your correlation threshold\n",
        "relevant_features = target_correlation[abs(target_correlation) > threshold].index.tolist()\n",
        "\n",
        "# Use relevant_features in your model\n",
        "selected_data = X_scaled_df[relevant_features]"
      ]
    },
    {
      "cell_type": "code",
      "execution_count": null,
      "metadata": {
        "id": "XQbnjuXgDfEg"
      },
      "outputs": [],
      "source": [
        "relevant_features"
      ]
    },
    {
      "cell_type": "code",
      "execution_count": null,
      "metadata": {
        "id": "6XE_ScZ7D-Up"
      },
      "outputs": [],
      "source": [
        "selected_data.drop('target',axis=1)"
      ]
    },
    {
      "cell_type": "markdown",
      "metadata": {
        "id": "DXO1iMn-EblW"
      },
      "source": [
        "## Model Construction"
      ]
    },
    {
      "cell_type": "code",
      "execution_count": null,
      "metadata": {
        "id": "AcI1yae5EpR0"
      },
      "outputs": [],
      "source": [
        "# Splitting the data into 70:30 ratio\n",
        "X_train_70, X_test_70, y_train_70, y_test_70 = train_test_split(selected_data, Y, test_size=0.3, random_state=42)\n",
        "\n",
        "# Splitting the data into 80:20 ratio\n",
        "X_train_80, X_test_80, y_train_80, y_test_80 = train_test_split(selected_data, Y, test_size=0.2, random_state=42)"
      ]
    },
    {
      "cell_type": "markdown",
      "metadata": {
        "id": "REyiFjqXGVNL"
      },
      "source": [
        "### Initialising models"
      ]
    },
    {
      "cell_type": "code",
      "execution_count": null,
      "metadata": {
        "id": "D_RoI8Q9Ga4C"
      },
      "outputs": [],
      "source": [
        "random_forest = RandomForestClassifier(random_state=42)\n",
        "xgboost_model = XGBClassifier(random_state=42)\n",
        "logistic_regression = LogisticRegression(random_state=42)\n",
        "knn_model = KNeighborsClassifier()"
      ]
    },
    {
      "cell_type": "code",
      "execution_count": null,
      "metadata": {
        "id": "BIWRxHN5GjS1"
      },
      "outputs": [],
      "source": [
        "# Training models with 70:30 split\n",
        "random_forest.fit(X_train_70, y_train_70)\n",
        "xgboost_model.fit(X_train_70, y_train_70)\n",
        "logistic_regression.fit(X_train_70, y_train_70)\n",
        "knn_model.fit(X_train_70, y_train_70)\n"
      ]
    },
    {
      "cell_type": "markdown",
      "metadata": {
        "id": "bqcB7Iv1HasF"
      },
      "source": [
        "### Evaluation(70:30)"
      ]
    },
    {
      "cell_type": "code",
      "execution_count": null,
      "metadata": {
        "id": "UkIpbpf6GpH9"
      },
      "outputs": [],
      "source": [
        "# Evaluating models with 70:30 split\n",
        "rf_pred_70 = random_forest.predict(X_test_70)\n",
        "xgb_pred_70 = xgboost_model.predict(X_test_70)\n",
        "lr_pred_70 = logistic_regression.predict(X_test_70)\n",
        "knn_pred_70 = knn_model.predict(X_test_70)\n",
        "\n",
        "# Calculating evaluation metrics for 70:30 split\n",
        "print(\"\\nEvaluation Metrics with 70:30 split:\")\n",
        "print(\"Random Forest:\")\n",
        "print(classification_report(y_test_70, rf_pred_70))\n",
        "print(\"Accuracy:\", accuracy_score(y_test_70, rf_pred_70))\n",
        "\n",
        "print(\"\\nXGBoost:\")\n",
        "print(classification_report(y_test_70, xgb_pred_70))\n",
        "print(\"Accuracy:\", accuracy_score(y_test_70, xgb_pred_70))\n",
        "\n",
        "print(\"\\nLogistic Regression:\")\n",
        "print(classification_report(y_test_70, lr_pred_70))\n",
        "print(\"Accuracy:\", accuracy_score(y_test_70, lr_pred_70))\n",
        "\n",
        "print(\"\\nK-Nearest Neighbors:\")\n",
        "print(classification_report(y_test_70, knn_pred_70))\n",
        "print(\"Accuracy:\", accuracy_score(y_test_70, knn_pred_70))"
      ]
    },
    {
      "cell_type": "markdown",
      "metadata": {
        "id": "q6NZpQ3KIa6x"
      },
      "source": [
        "### Training on 80:20 dataset"
      ]
    },
    {
      "cell_type": "code",
      "execution_count": null,
      "metadata": {
        "id": "l5ucioBsIi5b"
      },
      "outputs": [],
      "source": [
        "random_forest.fit(X_train_80, y_train_80)\n",
        "xgboost_model.fit(X_train_80, y_train_80)\n",
        "logistic_regression.fit(X_train_80, y_train_80)\n",
        "knn_model.fit(X_train_80, y_train_80)"
      ]
    },
    {
      "cell_type": "markdown",
      "metadata": {
        "id": "3-XDw8aHJUrx"
      },
      "source": [
        "### Evaluation for 80:20 split"
      ]
    },
    {
      "cell_type": "code",
      "execution_count": null,
      "metadata": {
        "id": "XgGbNyC-JG_B"
      },
      "outputs": [],
      "source": [
        "rf_pred_80 = random_forest.predict(X_test_80)\n",
        "xgb_pred_80 = xgboost_model.predict(X_test_80)\n",
        "lr_pred_80 = logistic_regression.predict(X_test_80)\n",
        "knn_pred_80 = knn_model.predict(X_test_80)\n",
        "\n",
        "# Calculating evaluation metrics for 80:20 split\n",
        "print(\"\\nEvaluation Metrics with 80:20 split:\")\n",
        "print(\"Random Forest:\")\n",
        "print(classification_report(y_test_80, rf_pred_80))\n",
        "print(\"Accuracy:\", accuracy_score(y_test_80, rf_pred_80))\n",
        "\n",
        "print(\"\\nXGBoost:\")\n",
        "print(classification_report(y_test_80, xgb_pred_80))\n",
        "print(\"Accuracy:\", accuracy_score(y_test_80, xgb_pred_80))\n",
        "\n",
        "print(\"\\nLogistic Regression:\")\n",
        "print(classification_report(y_test_80, lr_pred_80))\n",
        "print(\"Accuracy:\", accuracy_score(y_test_80, lr_pred_80))\n",
        "\n",
        "print(\"\\nK-Nearest Neighbors:\")\n",
        "print(classification_report(y_test_80, knn_pred_80))\n",
        "print(\"Accuracy:\", accuracy_score(y_test_80, knn_pred_80))"
      ]
    }
  ],
  "metadata": {
    "colab": {
      "provenance": [],
      "authorship_tag": "ABX9TyOLJR2lqDyDWJq69uY2G5ZO",
      "include_colab_link": true
    },
    "kernelspec": {
      "display_name": "Python 3",
      "name": "python3"
    },
    "language_info": {
      "name": "python"
    }
  },
  "nbformat": 4,
  "nbformat_minor": 0
}